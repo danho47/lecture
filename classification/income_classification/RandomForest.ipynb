{
 "cells": [
  {
   "cell_type": "code",
   "execution_count": 1,
   "metadata": {},
   "outputs": [],
   "source": [
    "import numpy as np\n",
    "import pandas as pd \n",
    "import matplotlib.pyplot as plt\n",
    "%matplotlib inline\n",
    "import seaborn as  sns\n",
    "sns.set_style('whitegrid')"
   ]
  },
  {
   "cell_type": "code",
   "execution_count": 2,
   "metadata": {},
   "outputs": [
    {
     "name": "stderr",
     "output_type": "stream",
     "text": [
      "C:\\Users\\kosuke\\Anaconda3\\lib\\site-packages\\ipykernel_launcher.py:1: FutureWarning: read_table is deprecated, use read_csv instead, passing sep='\\t'.\n",
      "  \"\"\"Entry point for launching an IPython kernel.\n",
      "C:\\Users\\kosuke\\Anaconda3\\lib\\site-packages\\ipykernel_launcher.py:2: FutureWarning: read_table is deprecated, use read_csv instead, passing sep='\\t'.\n",
      "  \n"
     ]
    }
   ],
   "source": [
    "test = pd.read_table('C:/Users/kosuke/dataset/revenue/test.tsv')\n",
    "train = pd.read_table('C:/Users/kosuke/dataset/revenue/train.tsv',index_col=0)\n",
    "test_i = test.set_index('id')"
   ]
  },
  {
   "cell_type": "code",
   "execution_count": 3,
   "metadata": {},
   "outputs": [],
   "source": [
    "train['sex'] = train['sex'].map({\n",
    "    'Male': 0,\n",
    "    'Female': 1         \n",
    "})\n",
    "test_i['sex'] = test_i['sex'].map({\n",
    "    'Male': 0,\n",
    "    'Female': 1         \n",
    "})"
   ]
  },
  {
   "cell_type": "code",
   "execution_count": 4,
   "metadata": {},
   "outputs": [],
   "source": [
    "train = pd.get_dummies(train, drop_first=True, columns=['workclass', 'education','marital-status','occupation','relationship','race'])\n",
    "test_i = pd.get_dummies(test_i, drop_first=True, columns=['workclass', 'education','marital-status','occupation','relationship','race'])"
   ]
  },
  {
   "cell_type": "code",
   "execution_count": 5,
   "metadata": {},
   "outputs": [],
   "source": [
    "X = pd.DataFrame()\n",
    "X = train.drop(['Y'], 1)\n",
    "X = X.drop(['native-country'], 1)\n",
    "y = train['Y']"
   ]
  },
  {
   "cell_type": "code",
   "execution_count": 6,
   "metadata": {},
   "outputs": [
    {
     "name": "stderr",
     "output_type": "stream",
     "text": [
      "C:\\Users\\kosuke\\Anaconda3\\lib\\site-packages\\sklearn\\preprocessing\\data.py:645: DataConversionWarning: Data with input dtype uint8, int64 were all converted to float64 by StandardScaler.\n",
      "  return self.partial_fit(X, y)\n",
      "C:\\Users\\kosuke\\Anaconda3\\lib\\site-packages\\sklearn\\base.py:464: DataConversionWarning: Data with input dtype uint8, int64 were all converted to float64 by StandardScaler.\n",
      "  return self.fit(X, **fit_params).transform(X)\n"
     ]
    }
   ],
   "source": [
    "from sklearn.preprocessing import StandardScaler\n",
    "scaler = StandardScaler()\n",
    "X_scaled = scaler.fit_transform(X)"
   ]
  },
  {
   "cell_type": "code",
   "execution_count": 7,
   "metadata": {},
   "outputs": [],
   "source": [
    "from sklearn.model_selection import train_test_split\n",
    "X_train, X_val, y_train, y_val = train_test_split(X_scaled, y, test_size=0.25, \n",
    "                                                    shuffle=True, random_state=42)"
   ]
  },
  {
   "cell_type": "code",
   "execution_count": 19,
   "metadata": {},
   "outputs": [],
   "source": [
    "from sklearn.ensemble import RandomForestClassifier\n",
    "from sklearn.metrics import accuracy_score\n",
    "from sklearn.model_selection import GridSearchCV"
   ]
  },
  {
   "cell_type": "code",
   "execution_count": 30,
   "metadata": {},
   "outputs": [],
   "source": [
    "parameters = {\n",
    "    \"n_estimators\":[i for i in range(10,100,10)],\n",
    "    \"criterion\":[\"gini\",\"entropy\"],\n",
    "    \"max_depth\":[i for i in range(1,10,1)],\n",
    "     'min_samples_split': [2, 4, 10,12,16],\n",
    "}\n",
    "clf = GridSearchCV(RandomForestClassifier(), parameters, cv=5, scoring='f1_micro', return_train_score=True)"
   ]
  },
  {
   "cell_type": "code",
   "execution_count": 31,
   "metadata": {},
   "outputs": [
    {
     "data": {
      "text/plain": [
       "GridSearchCV(cv=5, error_score='raise-deprecating',\n",
       "       estimator=RandomForestClassifier(bootstrap=True, class_weight=None, criterion='gini',\n",
       "            max_depth=None, max_features='auto', max_leaf_nodes=None,\n",
       "            min_impurity_decrease=0.0, min_impurity_split=None,\n",
       "            min_samples_leaf=1, min_samples_split=2,\n",
       "            min_weight_fraction_leaf=0.0, n_estimators='warn', n_jobs=None,\n",
       "            oob_score=False, random_state=None, verbose=0,\n",
       "            warm_start=False),\n",
       "       fit_params=None, iid='warn', n_jobs=None,\n",
       "       param_grid={'n_estimators': [10, 20, 30, 40, 50, 60, 70, 80, 90], 'criterion': ['gini', 'entropy'], 'max_depth': [1, 2, 3, 4, 5, 6, 7, 8, 9], 'min_samples_split': [2, 4, 10, 12, 16]},\n",
       "       pre_dispatch='2*n_jobs', refit=True, return_train_score=True,\n",
       "       scoring='f1_micro', verbose=0)"
      ]
     },
     "execution_count": 31,
     "metadata": {},
     "output_type": "execute_result"
    }
   ],
   "source": [
    "clf.fit(X_train, y_train)"
   ]
  },
  {
   "cell_type": "code",
   "execution_count": 32,
   "metadata": {},
   "outputs": [
    {
     "data": {
      "text/html": [
       "<div>\n",
       "<style scoped>\n",
       "    .dataframe tbody tr th:only-of-type {\n",
       "        vertical-align: middle;\n",
       "    }\n",
       "\n",
       "    .dataframe tbody tr th {\n",
       "        vertical-align: top;\n",
       "    }\n",
       "\n",
       "    .dataframe thead th {\n",
       "        text-align: right;\n",
       "    }\n",
       "</style>\n",
       "<table border=\"1\" class=\"dataframe\">\n",
       "  <thead>\n",
       "    <tr style=\"text-align: right;\">\n",
       "      <th></th>\n",
       "      <th>mean_test_score</th>\n",
       "      <th>params</th>\n",
       "    </tr>\n",
       "  </thead>\n",
       "  <tbody>\n",
       "    <tr>\n",
       "      <th>389</th>\n",
       "      <td>0.855610</td>\n",
       "      <td>{'criterion': 'gini', 'max_depth': 9, 'min_sam...</td>\n",
       "    </tr>\n",
       "    <tr>\n",
       "      <th>374</th>\n",
       "      <td>0.855037</td>\n",
       "      <td>{'criterion': 'gini', 'max_depth': 9, 'min_sam...</td>\n",
       "    </tr>\n",
       "    <tr>\n",
       "      <th>366</th>\n",
       "      <td>0.854955</td>\n",
       "      <td>{'criterion': 'gini', 'max_depth': 9, 'min_sam...</td>\n",
       "    </tr>\n",
       "    <tr>\n",
       "      <th>385</th>\n",
       "      <td>0.854791</td>\n",
       "      <td>{'criterion': 'gini', 'max_depth': 9, 'min_sam...</td>\n",
       "    </tr>\n",
       "    <tr>\n",
       "      <th>382</th>\n",
       "      <td>0.854627</td>\n",
       "      <td>{'criterion': 'gini', 'max_depth': 9, 'min_sam...</td>\n",
       "    </tr>\n",
       "    <tr>\n",
       "      <th>371</th>\n",
       "      <td>0.854464</td>\n",
       "      <td>{'criterion': 'gini', 'max_depth': 9, 'min_sam...</td>\n",
       "    </tr>\n",
       "    <tr>\n",
       "      <th>363</th>\n",
       "      <td>0.854464</td>\n",
       "      <td>{'criterion': 'gini', 'max_depth': 9, 'min_sam...</td>\n",
       "    </tr>\n",
       "    <tr>\n",
       "      <th>367</th>\n",
       "      <td>0.854464</td>\n",
       "      <td>{'criterion': 'gini', 'max_depth': 9, 'min_sam...</td>\n",
       "    </tr>\n",
       "    <tr>\n",
       "      <th>392</th>\n",
       "      <td>0.854300</td>\n",
       "      <td>{'criterion': 'gini', 'max_depth': 9, 'min_sam...</td>\n",
       "    </tr>\n",
       "    <tr>\n",
       "      <th>377</th>\n",
       "      <td>0.854300</td>\n",
       "      <td>{'criterion': 'gini', 'max_depth': 9, 'min_sam...</td>\n",
       "    </tr>\n",
       "    <tr>\n",
       "      <th>391</th>\n",
       "      <td>0.854300</td>\n",
       "      <td>{'criterion': 'gini', 'max_depth': 9, 'min_sam...</td>\n",
       "    </tr>\n",
       "    <tr>\n",
       "      <th>372</th>\n",
       "      <td>0.854218</td>\n",
       "      <td>{'criterion': 'gini', 'max_depth': 9, 'min_sam...</td>\n",
       "    </tr>\n",
       "    <tr>\n",
       "      <th>803</th>\n",
       "      <td>0.854218</td>\n",
       "      <td>{'criterion': 'entropy', 'max_depth': 9, 'min_...</td>\n",
       "    </tr>\n",
       "    <tr>\n",
       "      <th>393</th>\n",
       "      <td>0.854136</td>\n",
       "      <td>{'criterion': 'gini', 'max_depth': 9, 'min_sam...</td>\n",
       "    </tr>\n",
       "    <tr>\n",
       "      <th>395</th>\n",
       "      <td>0.854054</td>\n",
       "      <td>{'criterion': 'gini', 'max_depth': 9, 'min_sam...</td>\n",
       "    </tr>\n",
       "    <tr>\n",
       "      <th>368</th>\n",
       "      <td>0.853972</td>\n",
       "      <td>{'criterion': 'gini', 'max_depth': 9, 'min_sam...</td>\n",
       "    </tr>\n",
       "    <tr>\n",
       "      <th>806</th>\n",
       "      <td>0.853808</td>\n",
       "      <td>{'criterion': 'entropy', 'max_depth': 9, 'min_...</td>\n",
       "    </tr>\n",
       "    <tr>\n",
       "      <th>384</th>\n",
       "      <td>0.853726</td>\n",
       "      <td>{'criterion': 'gini', 'max_depth': 9, 'min_sam...</td>\n",
       "    </tr>\n",
       "    <tr>\n",
       "      <th>772</th>\n",
       "      <td>0.853726</td>\n",
       "      <td>{'criterion': 'entropy', 'max_depth': 9, 'min_...</td>\n",
       "    </tr>\n",
       "    <tr>\n",
       "      <th>403</th>\n",
       "      <td>0.853726</td>\n",
       "      <td>{'criterion': 'gini', 'max_depth': 9, 'min_sam...</td>\n",
       "    </tr>\n",
       "    <tr>\n",
       "      <th>376</th>\n",
       "      <td>0.853726</td>\n",
       "      <td>{'criterion': 'gini', 'max_depth': 9, 'min_sam...</td>\n",
       "    </tr>\n",
       "    <tr>\n",
       "      <th>773</th>\n",
       "      <td>0.853726</td>\n",
       "      <td>{'criterion': 'entropy', 'max_depth': 9, 'min_...</td>\n",
       "    </tr>\n",
       "    <tr>\n",
       "      <th>401</th>\n",
       "      <td>0.853726</td>\n",
       "      <td>{'criterion': 'gini', 'max_depth': 9, 'min_sam...</td>\n",
       "    </tr>\n",
       "    <tr>\n",
       "      <th>394</th>\n",
       "      <td>0.853726</td>\n",
       "      <td>{'criterion': 'gini', 'max_depth': 9, 'min_sam...</td>\n",
       "    </tr>\n",
       "    <tr>\n",
       "      <th>778</th>\n",
       "      <td>0.853645</td>\n",
       "      <td>{'criterion': 'entropy', 'max_depth': 9, 'min_...</td>\n",
       "    </tr>\n",
       "    <tr>\n",
       "      <th>383</th>\n",
       "      <td>0.853645</td>\n",
       "      <td>{'criterion': 'gini', 'max_depth': 9, 'min_sam...</td>\n",
       "    </tr>\n",
       "    <tr>\n",
       "      <th>787</th>\n",
       "      <td>0.853645</td>\n",
       "      <td>{'criterion': 'entropy', 'max_depth': 9, 'min_...</td>\n",
       "    </tr>\n",
       "    <tr>\n",
       "      <th>373</th>\n",
       "      <td>0.853563</td>\n",
       "      <td>{'criterion': 'gini', 'max_depth': 9, 'min_sam...</td>\n",
       "    </tr>\n",
       "    <tr>\n",
       "      <th>399</th>\n",
       "      <td>0.853563</td>\n",
       "      <td>{'criterion': 'gini', 'max_depth': 9, 'min_sam...</td>\n",
       "    </tr>\n",
       "    <tr>\n",
       "      <th>797</th>\n",
       "      <td>0.853563</td>\n",
       "      <td>{'criterion': 'entropy', 'max_depth': 9, 'min_...</td>\n",
       "    </tr>\n",
       "    <tr>\n",
       "      <th>...</th>\n",
       "      <td>...</td>\n",
       "      <td>...</td>\n",
       "    </tr>\n",
       "    <tr>\n",
       "      <th>429</th>\n",
       "      <td>0.752580</td>\n",
       "      <td>{'criterion': 'entropy', 'max_depth': 1, 'min_...</td>\n",
       "    </tr>\n",
       "    <tr>\n",
       "      <th>430</th>\n",
       "      <td>0.752580</td>\n",
       "      <td>{'criterion': 'entropy', 'max_depth': 1, 'min_...</td>\n",
       "    </tr>\n",
       "    <tr>\n",
       "      <th>431</th>\n",
       "      <td>0.752580</td>\n",
       "      <td>{'criterion': 'entropy', 'max_depth': 1, 'min_...</td>\n",
       "    </tr>\n",
       "    <tr>\n",
       "      <th>432</th>\n",
       "      <td>0.752580</td>\n",
       "      <td>{'criterion': 'entropy', 'max_depth': 1, 'min_...</td>\n",
       "    </tr>\n",
       "    <tr>\n",
       "      <th>433</th>\n",
       "      <td>0.752580</td>\n",
       "      <td>{'criterion': 'entropy', 'max_depth': 1, 'min_...</td>\n",
       "    </tr>\n",
       "    <tr>\n",
       "      <th>434</th>\n",
       "      <td>0.752580</td>\n",
       "      <td>{'criterion': 'entropy', 'max_depth': 1, 'min_...</td>\n",
       "    </tr>\n",
       "    <tr>\n",
       "      <th>435</th>\n",
       "      <td>0.752580</td>\n",
       "      <td>{'criterion': 'entropy', 'max_depth': 1, 'min_...</td>\n",
       "    </tr>\n",
       "    <tr>\n",
       "      <th>436</th>\n",
       "      <td>0.752580</td>\n",
       "      <td>{'criterion': 'entropy', 'max_depth': 1, 'min_...</td>\n",
       "    </tr>\n",
       "    <tr>\n",
       "      <th>437</th>\n",
       "      <td>0.752580</td>\n",
       "      <td>{'criterion': 'entropy', 'max_depth': 1, 'min_...</td>\n",
       "    </tr>\n",
       "    <tr>\n",
       "      <th>438</th>\n",
       "      <td>0.752580</td>\n",
       "      <td>{'criterion': 'entropy', 'max_depth': 1, 'min_...</td>\n",
       "    </tr>\n",
       "    <tr>\n",
       "      <th>422</th>\n",
       "      <td>0.752580</td>\n",
       "      <td>{'criterion': 'entropy', 'max_depth': 1, 'min_...</td>\n",
       "    </tr>\n",
       "    <tr>\n",
       "      <th>420</th>\n",
       "      <td>0.752580</td>\n",
       "      <td>{'criterion': 'entropy', 'max_depth': 1, 'min_...</td>\n",
       "    </tr>\n",
       "    <tr>\n",
       "      <th>42</th>\n",
       "      <td>0.752580</td>\n",
       "      <td>{'criterion': 'gini', 'max_depth': 1, 'min_sam...</td>\n",
       "    </tr>\n",
       "    <tr>\n",
       "      <th>419</th>\n",
       "      <td>0.752580</td>\n",
       "      <td>{'criterion': 'entropy', 'max_depth': 1, 'min_...</td>\n",
       "    </tr>\n",
       "    <tr>\n",
       "      <th>444</th>\n",
       "      <td>0.752580</td>\n",
       "      <td>{'criterion': 'entropy', 'max_depth': 1, 'min_...</td>\n",
       "    </tr>\n",
       "    <tr>\n",
       "      <th>44</th>\n",
       "      <td>0.752580</td>\n",
       "      <td>{'criterion': 'gini', 'max_depth': 1, 'min_sam...</td>\n",
       "    </tr>\n",
       "    <tr>\n",
       "      <th>448</th>\n",
       "      <td>0.752580</td>\n",
       "      <td>{'criterion': 'entropy', 'max_depth': 1, 'min_...</td>\n",
       "    </tr>\n",
       "    <tr>\n",
       "      <th>406</th>\n",
       "      <td>0.752580</td>\n",
       "      <td>{'criterion': 'entropy', 'max_depth': 1, 'min_...</td>\n",
       "    </tr>\n",
       "    <tr>\n",
       "      <th>443</th>\n",
       "      <td>0.752580</td>\n",
       "      <td>{'criterion': 'entropy', 'max_depth': 1, 'min_...</td>\n",
       "    </tr>\n",
       "    <tr>\n",
       "      <th>408</th>\n",
       "      <td>0.752580</td>\n",
       "      <td>{'criterion': 'entropy', 'max_depth': 1, 'min_...</td>\n",
       "    </tr>\n",
       "    <tr>\n",
       "      <th>409</th>\n",
       "      <td>0.752580</td>\n",
       "      <td>{'criterion': 'entropy', 'max_depth': 1, 'min_...</td>\n",
       "    </tr>\n",
       "    <tr>\n",
       "      <th>410</th>\n",
       "      <td>0.752580</td>\n",
       "      <td>{'criterion': 'entropy', 'max_depth': 1, 'min_...</td>\n",
       "    </tr>\n",
       "    <tr>\n",
       "      <th>411</th>\n",
       "      <td>0.752580</td>\n",
       "      <td>{'criterion': 'entropy', 'max_depth': 1, 'min_...</td>\n",
       "    </tr>\n",
       "    <tr>\n",
       "      <th>412</th>\n",
       "      <td>0.752580</td>\n",
       "      <td>{'criterion': 'entropy', 'max_depth': 1, 'min_...</td>\n",
       "    </tr>\n",
       "    <tr>\n",
       "      <th>413</th>\n",
       "      <td>0.752580</td>\n",
       "      <td>{'criterion': 'entropy', 'max_depth': 1, 'min_...</td>\n",
       "    </tr>\n",
       "    <tr>\n",
       "      <th>442</th>\n",
       "      <td>0.752580</td>\n",
       "      <td>{'criterion': 'entropy', 'max_depth': 1, 'min_...</td>\n",
       "    </tr>\n",
       "    <tr>\n",
       "      <th>416</th>\n",
       "      <td>0.752580</td>\n",
       "      <td>{'criterion': 'entropy', 'max_depth': 1, 'min_...</td>\n",
       "    </tr>\n",
       "    <tr>\n",
       "      <th>417</th>\n",
       "      <td>0.752580</td>\n",
       "      <td>{'criterion': 'entropy', 'max_depth': 1, 'min_...</td>\n",
       "    </tr>\n",
       "    <tr>\n",
       "      <th>418</th>\n",
       "      <td>0.752580</td>\n",
       "      <td>{'criterion': 'entropy', 'max_depth': 1, 'min_...</td>\n",
       "    </tr>\n",
       "    <tr>\n",
       "      <th>449</th>\n",
       "      <td>0.752580</td>\n",
       "      <td>{'criterion': 'entropy', 'max_depth': 1, 'min_...</td>\n",
       "    </tr>\n",
       "  </tbody>\n",
       "</table>\n",
       "<p>810 rows × 2 columns</p>\n",
       "</div>"
      ],
      "text/plain": [
       "     mean_test_score                                             params\n",
       "389         0.855610  {'criterion': 'gini', 'max_depth': 9, 'min_sam...\n",
       "374         0.855037  {'criterion': 'gini', 'max_depth': 9, 'min_sam...\n",
       "366         0.854955  {'criterion': 'gini', 'max_depth': 9, 'min_sam...\n",
       "385         0.854791  {'criterion': 'gini', 'max_depth': 9, 'min_sam...\n",
       "382         0.854627  {'criterion': 'gini', 'max_depth': 9, 'min_sam...\n",
       "371         0.854464  {'criterion': 'gini', 'max_depth': 9, 'min_sam...\n",
       "363         0.854464  {'criterion': 'gini', 'max_depth': 9, 'min_sam...\n",
       "367         0.854464  {'criterion': 'gini', 'max_depth': 9, 'min_sam...\n",
       "392         0.854300  {'criterion': 'gini', 'max_depth': 9, 'min_sam...\n",
       "377         0.854300  {'criterion': 'gini', 'max_depth': 9, 'min_sam...\n",
       "391         0.854300  {'criterion': 'gini', 'max_depth': 9, 'min_sam...\n",
       "372         0.854218  {'criterion': 'gini', 'max_depth': 9, 'min_sam...\n",
       "803         0.854218  {'criterion': 'entropy', 'max_depth': 9, 'min_...\n",
       "393         0.854136  {'criterion': 'gini', 'max_depth': 9, 'min_sam...\n",
       "395         0.854054  {'criterion': 'gini', 'max_depth': 9, 'min_sam...\n",
       "368         0.853972  {'criterion': 'gini', 'max_depth': 9, 'min_sam...\n",
       "806         0.853808  {'criterion': 'entropy', 'max_depth': 9, 'min_...\n",
       "384         0.853726  {'criterion': 'gini', 'max_depth': 9, 'min_sam...\n",
       "772         0.853726  {'criterion': 'entropy', 'max_depth': 9, 'min_...\n",
       "403         0.853726  {'criterion': 'gini', 'max_depth': 9, 'min_sam...\n",
       "376         0.853726  {'criterion': 'gini', 'max_depth': 9, 'min_sam...\n",
       "773         0.853726  {'criterion': 'entropy', 'max_depth': 9, 'min_...\n",
       "401         0.853726  {'criterion': 'gini', 'max_depth': 9, 'min_sam...\n",
       "394         0.853726  {'criterion': 'gini', 'max_depth': 9, 'min_sam...\n",
       "778         0.853645  {'criterion': 'entropy', 'max_depth': 9, 'min_...\n",
       "383         0.853645  {'criterion': 'gini', 'max_depth': 9, 'min_sam...\n",
       "787         0.853645  {'criterion': 'entropy', 'max_depth': 9, 'min_...\n",
       "373         0.853563  {'criterion': 'gini', 'max_depth': 9, 'min_sam...\n",
       "399         0.853563  {'criterion': 'gini', 'max_depth': 9, 'min_sam...\n",
       "797         0.853563  {'criterion': 'entropy', 'max_depth': 9, 'min_...\n",
       "..               ...                                                ...\n",
       "429         0.752580  {'criterion': 'entropy', 'max_depth': 1, 'min_...\n",
       "430         0.752580  {'criterion': 'entropy', 'max_depth': 1, 'min_...\n",
       "431         0.752580  {'criterion': 'entropy', 'max_depth': 1, 'min_...\n",
       "432         0.752580  {'criterion': 'entropy', 'max_depth': 1, 'min_...\n",
       "433         0.752580  {'criterion': 'entropy', 'max_depth': 1, 'min_...\n",
       "434         0.752580  {'criterion': 'entropy', 'max_depth': 1, 'min_...\n",
       "435         0.752580  {'criterion': 'entropy', 'max_depth': 1, 'min_...\n",
       "436         0.752580  {'criterion': 'entropy', 'max_depth': 1, 'min_...\n",
       "437         0.752580  {'criterion': 'entropy', 'max_depth': 1, 'min_...\n",
       "438         0.752580  {'criterion': 'entropy', 'max_depth': 1, 'min_...\n",
       "422         0.752580  {'criterion': 'entropy', 'max_depth': 1, 'min_...\n",
       "420         0.752580  {'criterion': 'entropy', 'max_depth': 1, 'min_...\n",
       "42          0.752580  {'criterion': 'gini', 'max_depth': 1, 'min_sam...\n",
       "419         0.752580  {'criterion': 'entropy', 'max_depth': 1, 'min_...\n",
       "444         0.752580  {'criterion': 'entropy', 'max_depth': 1, 'min_...\n",
       "44          0.752580  {'criterion': 'gini', 'max_depth': 1, 'min_sam...\n",
       "448         0.752580  {'criterion': 'entropy', 'max_depth': 1, 'min_...\n",
       "406         0.752580  {'criterion': 'entropy', 'max_depth': 1, 'min_...\n",
       "443         0.752580  {'criterion': 'entropy', 'max_depth': 1, 'min_...\n",
       "408         0.752580  {'criterion': 'entropy', 'max_depth': 1, 'min_...\n",
       "409         0.752580  {'criterion': 'entropy', 'max_depth': 1, 'min_...\n",
       "410         0.752580  {'criterion': 'entropy', 'max_depth': 1, 'min_...\n",
       "411         0.752580  {'criterion': 'entropy', 'max_depth': 1, 'min_...\n",
       "412         0.752580  {'criterion': 'entropy', 'max_depth': 1, 'min_...\n",
       "413         0.752580  {'criterion': 'entropy', 'max_depth': 1, 'min_...\n",
       "442         0.752580  {'criterion': 'entropy', 'max_depth': 1, 'min_...\n",
       "416         0.752580  {'criterion': 'entropy', 'max_depth': 1, 'min_...\n",
       "417         0.752580  {'criterion': 'entropy', 'max_depth': 1, 'min_...\n",
       "418         0.752580  {'criterion': 'entropy', 'max_depth': 1, 'min_...\n",
       "449         0.752580  {'criterion': 'entropy', 'max_depth': 1, 'min_...\n",
       "\n",
       "[810 rows x 2 columns]"
      ]
     },
     "execution_count": 32,
     "metadata": {},
     "output_type": "execute_result"
    }
   ],
   "source": [
    "result_df = pd.DataFrame.from_dict(clf.cv_results_)\n",
    "col = ['mean_test_score', 'params']\n",
    "result_score = result_df[col]\n",
    "result_score.sort_values(by=['mean_test_score'], ascending=False)"
   ]
  },
  {
   "cell_type": "code",
   "execution_count": 33,
   "metadata": {},
   "outputs": [
    {
     "data": {
      "text/plain": [
       "RandomForestClassifier(bootstrap=True, class_weight=None, criterion='gini',\n",
       "            max_depth=9, max_features='auto', max_leaf_nodes=None,\n",
       "            min_impurity_decrease=0.0, min_impurity_split=None,\n",
       "            min_samples_leaf=1, min_samples_split=12,\n",
       "            min_weight_fraction_leaf=0.0, n_estimators=30, n_jobs=None,\n",
       "            oob_score=False, random_state=None, verbose=0,\n",
       "            warm_start=False)"
      ]
     },
     "execution_count": 33,
     "metadata": {},
     "output_type": "execute_result"
    }
   ],
   "source": [
    "clf.best_estimator_"
   ]
  },
  {
   "cell_type": "code",
   "execution_count": 29,
   "metadata": {},
   "outputs": [
    {
     "data": {
      "text/plain": [
       "0.8486486486486486"
      ]
     },
     "execution_count": 29,
     "metadata": {},
     "output_type": "execute_result"
    }
   ],
   "source": [
    "y_pred = clf.predict(X_val)\n",
    "accuracy_score(y_pred, y_val)"
   ]
  },
  {
   "cell_type": "code",
   "execution_count": 34,
   "metadata": {},
   "outputs": [
    {
     "data": {
      "text/plain": [
       "0.857002457002457"
      ]
     },
     "execution_count": 34,
     "metadata": {},
     "output_type": "execute_result"
    }
   ],
   "source": [
    "clf = RandomForestClassifier(n_estimators=30, max_depth=9, min_samples_split=12, random_state=0)\n",
    "clf = clf.fit(X_train, y_train)\n",
    "y_pred = clf.predict(X_val)\n",
    "accuracy_score(y_pred, y_val)"
   ]
  },
  {
   "cell_type": "code",
   "execution_count": 35,
   "metadata": {},
   "outputs": [
    {
     "data": {
      "text/plain": [
       "RandomForestClassifier(bootstrap=True, class_weight=None, criterion='gini',\n",
       "            max_depth=9, max_features='auto', max_leaf_nodes=None,\n",
       "            min_impurity_decrease=0.0, min_impurity_split=None,\n",
       "            min_samples_leaf=1, min_samples_split=12,\n",
       "            min_weight_fraction_leaf=0.0, n_estimators=30, n_jobs=None,\n",
       "            oob_score=False, random_state=0, verbose=0, warm_start=False)"
      ]
     },
     "execution_count": 35,
     "metadata": {},
     "output_type": "execute_result"
    }
   ],
   "source": [
    "clf.fit(X_scaled,y)"
   ]
  },
  {
   "cell_type": "code",
   "execution_count": 40,
   "metadata": {},
   "outputs": [
    {
     "name": "stdout",
     "output_type": "stream",
     "text": [
      "cross_validation：0.8523957171695047\n"
     ]
    }
   ],
   "source": [
    "from sklearn.model_selection import cross_val_score\n",
    "cv_score_tree = cross_val_score(clf, X_scaled, y, cv=5, scoring=\"accuracy\")\n",
    "print(\"cross_validation：\"+str(cv_score_tree.mean()))"
   ]
  },
  {
   "cell_type": "code",
   "execution_count": 37,
   "metadata": {},
   "outputs": [
    {
     "name": "stderr",
     "output_type": "stream",
     "text": [
      "C:\\Users\\kosuke\\Anaconda3\\lib\\site-packages\\sklearn\\preprocessing\\data.py:645: DataConversionWarning: Data with input dtype uint8, int64 were all converted to float64 by StandardScaler.\n",
      "  return self.partial_fit(X, y)\n",
      "C:\\Users\\kosuke\\Anaconda3\\lib\\site-packages\\sklearn\\base.py:464: DataConversionWarning: Data with input dtype uint8, int64 were all converted to float64 by StandardScaler.\n",
      "  return self.fit(X, **fit_params).transform(X)\n"
     ]
    }
   ],
   "source": [
    "test_i = test_i.drop(['native-country'], 1)\n",
    "test_scaled = scaler.fit_transform(test_i)\n",
    "test['Y'] = clf.predict(test_scaled)"
   ]
  },
  {
   "cell_type": "code",
   "execution_count": 38,
   "metadata": {},
   "outputs": [],
   "source": [
    "test[['id', 'Y']].to_csv('./submit6.csv', header=False, index=False)"
   ]
  },
  {
   "cell_type": "code",
   "execution_count": null,
   "metadata": {},
   "outputs": [],
   "source": []
  }
 ],
 "metadata": {
  "kernelspec": {
   "display_name": "Python 3",
   "language": "python",
   "name": "python3"
  },
  "language_info": {
   "codemirror_mode": {
    "name": "ipython",
    "version": 3
   },
   "file_extension": ".py",
   "mimetype": "text/x-python",
   "name": "python",
   "nbconvert_exporter": "python",
   "pygments_lexer": "ipython3",
   "version": "3.7.3"
  }
 },
 "nbformat": 4,
 "nbformat_minor": 2
}
